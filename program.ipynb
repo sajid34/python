{
 "cells": [
  {
   "cell_type": "code",
   "execution_count": 4,
   "metadata": {},
   "outputs": [
    {
     "name": "stdout",
     "output_type": "stream",
     "text": [
      "11\n"
     ]
    }
   ],
   "source": [
    "## how to provide comments in the code\n",
    "## using hashtags you can tell interpreter that it's not a code \n",
    "# There are three parts in coding \n",
    " \n",
    "# input Phase\n",
    "num1 = int(input(\"Enter first NUMBER: \"))\n",
    "num2 = int(input(\"Enter 2nd Number: \"))\n",
    "\n",
    "#Processing Phase\n",
    "result = num1+num2\n",
    "\n",
    "#Output Phase\n",
    "print(result)\n"
   ]
  },
  {
   "cell_type": "code",
   "execution_count": 5,
   "metadata": {},
   "outputs": [
    {
     "name": "stdout",
     "output_type": "stream",
     "text": [
      "SajedulChowdury\n"
     ]
    }
   ],
   "source": [
    "# Be sure to define the data types\n",
    "\n",
    "name1 = input(\"Enter 1st Name: \")\n",
    "name2 = input(\"Enter 2nd Name: \")\n",
    "result = name1+name2\n",
    "print(result)\n"
   ]
  },
  {
   "cell_type": "code",
   "execution_count": 6,
   "metadata": {},
   "outputs": [
    {
     "name": "stdout",
     "output_type": "stream",
     "text": [
      "Sajedul Chowdhury\n"
     ]
    }
   ],
   "source": [
    "name1 =str(input(\"Enter 1st Name: \"))\n",
    "name2 =str(input(\"Enter 2nd Name: \"))\n",
    "result = name1+name2\n",
    "print(result)\n"
   ]
  },
  {
   "cell_type": "code",
   "execution_count": 15,
   "metadata": {},
   "outputs": [
    {
     "name": "stdout",
     "output_type": "stream",
     "text": [
      "sajedul20200205016\n"
     ]
    }
   ],
   "source": [
    "name =str(input(\"Enter 1st Name: \"))\n",
    "id =int(input(\"Enter Student ID: \"))\n",
    "result = name+str(id)\n",
    "print(result)\n"
   ]
  },
  {
   "cell_type": "code",
   "execution_count": 20,
   "metadata": {},
   "outputs": [
    {
     "ename": "SyntaxError",
     "evalue": "invalid syntax (Temp/ipykernel_10292/3424509822.py, line 2)",
     "output_type": "error",
     "traceback": [
      "\u001b[1;36m  File \u001b[1;32m\"C:\\Users\\DIGITA~1\\AppData\\Local\\Temp/ipykernel_10292/3424509822.py\"\u001b[1;36m, line \u001b[1;32m2\u001b[0m\n\u001b[1;33m    name = str(input(\"Enter First Name: \"))\u001b[0m\n\u001b[1;37m    ^\u001b[0m\n\u001b[1;31mSyntaxError\u001b[0m\u001b[1;31m:\u001b[0m invalid syntax\n"
     ]
    }
   ],
   "source": [
    "# string is unmutable\n",
    "id = int(input(\"Enter Your ID: \")\n",
    "name = str(input(\"Enter First Name: \"))\n",
    "result = int(name)+id\n",
    "print(result)"
   ]
  },
  {
   "cell_type": "code",
   "execution_count": 29,
   "metadata": {},
   "outputs": [
    {
     "name": "stdout",
     "output_type": "stream",
     "text": [
      "('lol', '112')\n"
     ]
    }
   ],
   "source": [
    "name =str(input(\"Enter 1st name: \"))\n",
    "id =int(input(\"Enter Student ID: \"))\n",
    "result = name,str(id)\n",
    "print(result)"
   ]
  }
 ],
 "metadata": {
  "interpreter": {
   "hash": "e0955b767908100cfa1867dd175129c1186ff187b98ad06523212845de703468"
  },
  "kernelspec": {
   "display_name": "Python 3.9.8 64-bit",
   "language": "python",
   "name": "python3"
  },
  "language_info": {
   "codemirror_mode": {
    "name": "ipython",
    "version": 3
   },
   "file_extension": ".py",
   "mimetype": "text/x-python",
   "name": "python",
   "nbconvert_exporter": "python",
   "pygments_lexer": "ipython3",
   "version": "3.9.8"
  },
  "orig_nbformat": 4
 },
 "nbformat": 4,
 "nbformat_minor": 2
}
